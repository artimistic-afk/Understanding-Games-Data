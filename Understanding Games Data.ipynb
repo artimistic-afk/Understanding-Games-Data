{
 "cells": [
  {
   "cell_type": "markdown",
   "id": "af7eb30b",
   "metadata": {},
   "source": [
    "# Dataset URL"
   ]
  },
  {
   "cell_type": "markdown",
   "id": "ed289bf4",
   "metadata": {},
   "source": [
    "www.kaggle.com. (n.d.). Game Recommendations on Steam. [online] Available at: https://www.kaggle.com/datasets/antonkozyriev/game-recommendations-on-steam [Accessed 22 Mar. 2023].\n"
   ]
  },
  {
   "cell_type": "markdown",
   "id": "c347bbfb",
   "metadata": {},
   "source": [
    "This dataset comes from a Gaming store which has collected all the data from \n",
    "their customers and their reviews before and after playing it during a specific\n",
    "year and what kind of plateform are users playing the games on.\n",
    "The dataset contain both numerical and categorical data with 13 columns and 46058\n",
    "rows.\n",
    "This gaming store wants me to help them understand the dataset through visualization\n",
    "because the data is very extensive and they have some questions that i have to answer\n",
    "to clear their understanding about games."
   ]
  },
  {
   "cell_type": "markdown",
   "id": "13bd58e3",
   "metadata": {},
   "source": [
    "# Importing Libraries"
   ]
  },
  {
   "cell_type": "markdown",
   "id": "89cd6a61",
   "metadata": {},
   "source": [
    "Here i am importing all the libraries which are required for my data visualizaion"
   ]
  },
  {
   "cell_type": "code",
   "execution_count": 440,
   "id": "16f8da55",
   "metadata": {},
   "outputs": [],
   "source": [
    "import pandas as pd\n",
    "import numpy as np\n",
    "import seaborn as sns\n",
    "import matplotlib.pyplot as plt\n",
    "%matplotlib inline\n",
    "import datetime"
   ]
  },
  {
   "cell_type": "markdown",
   "id": "20fe54b5",
   "metadata": {},
   "source": [
    "## Exploring Dataset"
   ]
  },
  {
   "cell_type": "markdown",
   "id": "64587fff",
   "metadata": {},
   "source": [
    "Here im reading the dataset using the pd.read_csv because it reads the comma seperated values \n",
    "into Dataframe and giving the exact address of where the csv file is located "
   ]
  },
  {
   "cell_type": "code",
   "execution_count": 441,
   "id": "d3e3b935",
   "metadata": {},
   "outputs": [],
   "source": [
    "arty = pd.read_csv (r'F:\\Masters\\AI and Application\\games.csv\\games.csv')"
   ]
  },
  {
   "cell_type": "markdown",
   "id": "7d517e8c",
   "metadata": {},
   "source": [
    "Using the .head() command to show the upper part of the dataset\n",
    "so that we can understand what are dataset holds.\n",
    "ie: numberical values, categorical values ets"
   ]
  },
  {
   "cell_type": "code",
   "execution_count": 442,
   "id": "df4b83ff",
   "metadata": {
    "scrolled": true
   },
   "outputs": [
    {
     "data": {
      "text/html": [
       "<div>\n",
       "<style scoped>\n",
       "    .dataframe tbody tr th:only-of-type {\n",
       "        vertical-align: middle;\n",
       "    }\n",
       "\n",
       "    .dataframe tbody tr th {\n",
       "        vertical-align: top;\n",
       "    }\n",
       "\n",
       "    .dataframe thead th {\n",
       "        text-align: right;\n",
       "    }\n",
       "</style>\n",
       "<table border=\"1\" class=\"dataframe\">\n",
       "  <thead>\n",
       "    <tr style=\"text-align: right;\">\n",
       "      <th></th>\n",
       "      <th>app_id</th>\n",
       "      <th>title</th>\n",
       "      <th>date_release</th>\n",
       "      <th>win</th>\n",
       "      <th>mac</th>\n",
       "      <th>linux</th>\n",
       "      <th>rating</th>\n",
       "      <th>positive_ratio</th>\n",
       "      <th>user_reviews</th>\n",
       "      <th>price_final</th>\n",
       "      <th>price_original</th>\n",
       "      <th>discount</th>\n",
       "      <th>steam_deck</th>\n",
       "    </tr>\n",
       "  </thead>\n",
       "  <tbody>\n",
       "    <tr>\n",
       "      <th>0</th>\n",
       "      <td>10090</td>\n",
       "      <td>Call of Duty: World at War</td>\n",
       "      <td>2008-11-18</td>\n",
       "      <td>True</td>\n",
       "      <td>False</td>\n",
       "      <td>False</td>\n",
       "      <td>Very Positive</td>\n",
       "      <td>92</td>\n",
       "      <td>37039</td>\n",
       "      <td>19.99</td>\n",
       "      <td>19.99</td>\n",
       "      <td>0.0</td>\n",
       "      <td>True</td>\n",
       "    </tr>\n",
       "    <tr>\n",
       "      <th>1</th>\n",
       "      <td>13500</td>\n",
       "      <td>Prince of Persia: Warrior Within™</td>\n",
       "      <td>2008-11-21</td>\n",
       "      <td>True</td>\n",
       "      <td>False</td>\n",
       "      <td>False</td>\n",
       "      <td>Very Positive</td>\n",
       "      <td>84</td>\n",
       "      <td>2199</td>\n",
       "      <td>9.99</td>\n",
       "      <td>9.99</td>\n",
       "      <td>0.0</td>\n",
       "      <td>True</td>\n",
       "    </tr>\n",
       "    <tr>\n",
       "      <th>2</th>\n",
       "      <td>22364</td>\n",
       "      <td>BRINK: Agents of Change</td>\n",
       "      <td>2011-08-03</td>\n",
       "      <td>True</td>\n",
       "      <td>False</td>\n",
       "      <td>False</td>\n",
       "      <td>Positive</td>\n",
       "      <td>85</td>\n",
       "      <td>21</td>\n",
       "      <td>2.99</td>\n",
       "      <td>2.99</td>\n",
       "      <td>0.0</td>\n",
       "      <td>True</td>\n",
       "    </tr>\n",
       "    <tr>\n",
       "      <th>3</th>\n",
       "      <td>113020</td>\n",
       "      <td>Monaco: What's Yours Is Mine</td>\n",
       "      <td>2013-04-24</td>\n",
       "      <td>True</td>\n",
       "      <td>True</td>\n",
       "      <td>True</td>\n",
       "      <td>Very Positive</td>\n",
       "      <td>92</td>\n",
       "      <td>3722</td>\n",
       "      <td>14.99</td>\n",
       "      <td>14.99</td>\n",
       "      <td>0.0</td>\n",
       "      <td>True</td>\n",
       "    </tr>\n",
       "    <tr>\n",
       "      <th>4</th>\n",
       "      <td>226560</td>\n",
       "      <td>Escape Dead Island</td>\n",
       "      <td>2014-11-18</td>\n",
       "      <td>True</td>\n",
       "      <td>False</td>\n",
       "      <td>False</td>\n",
       "      <td>Mixed</td>\n",
       "      <td>61</td>\n",
       "      <td>873</td>\n",
       "      <td>14.99</td>\n",
       "      <td>14.99</td>\n",
       "      <td>0.0</td>\n",
       "      <td>True</td>\n",
       "    </tr>\n",
       "  </tbody>\n",
       "</table>\n",
       "</div>"
      ],
      "text/plain": [
       "   app_id                              title date_release   win    mac  linux  \\\n",
       "0   10090         Call of Duty: World at War   2008-11-18  True  False  False   \n",
       "1   13500  Prince of Persia: Warrior Within™   2008-11-21  True  False  False   \n",
       "2   22364            BRINK: Agents of Change   2011-08-03  True  False  False   \n",
       "3  113020       Monaco: What's Yours Is Mine   2013-04-24  True   True   True   \n",
       "4  226560                 Escape Dead Island   2014-11-18  True  False  False   \n",
       "\n",
       "          rating  positive_ratio  user_reviews  price_final  price_original  \\\n",
       "0  Very Positive              92         37039        19.99           19.99   \n",
       "1  Very Positive              84          2199         9.99            9.99   \n",
       "2       Positive              85            21         2.99            2.99   \n",
       "3  Very Positive              92          3722        14.99           14.99   \n",
       "4          Mixed              61           873        14.99           14.99   \n",
       "\n",
       "   discount  steam_deck  \n",
       "0       0.0        True  \n",
       "1       0.0        True  \n",
       "2       0.0        True  \n",
       "3       0.0        True  \n",
       "4       0.0        True  "
      ]
     },
     "execution_count": 442,
     "metadata": {},
     "output_type": "execute_result"
    }
   ],
   "source": [
    "arty.head()"
   ]
  },
  {
   "cell_type": "markdown",
   "id": "17b9d59b",
   "metadata": {},
   "source": [
    "Here i am using the .tail() command to show the lower part of the dataset\n",
    "so that we can understand what are dataset holds. \n",
    "ie: numberical values, categorical values ets"
   ]
  },
  {
   "cell_type": "code",
   "execution_count": 443,
   "id": "4ca36d09",
   "metadata": {
    "scrolled": false
   },
   "outputs": [
    {
     "data": {
      "text/html": [
       "<div>\n",
       "<style scoped>\n",
       "    .dataframe tbody tr th:only-of-type {\n",
       "        vertical-align: middle;\n",
       "    }\n",
       "\n",
       "    .dataframe tbody tr th {\n",
       "        vertical-align: top;\n",
       "    }\n",
       "\n",
       "    .dataframe thead th {\n",
       "        text-align: right;\n",
       "    }\n",
       "</style>\n",
       "<table border=\"1\" class=\"dataframe\">\n",
       "  <thead>\n",
       "    <tr style=\"text-align: right;\">\n",
       "      <th></th>\n",
       "      <th>app_id</th>\n",
       "      <th>title</th>\n",
       "      <th>date_release</th>\n",
       "      <th>win</th>\n",
       "      <th>mac</th>\n",
       "      <th>linux</th>\n",
       "      <th>rating</th>\n",
       "      <th>positive_ratio</th>\n",
       "      <th>user_reviews</th>\n",
       "      <th>price_final</th>\n",
       "      <th>price_original</th>\n",
       "      <th>discount</th>\n",
       "      <th>steam_deck</th>\n",
       "    </tr>\n",
       "  </thead>\n",
       "  <tbody>\n",
       "    <tr>\n",
       "      <th>46063</th>\n",
       "      <td>758560</td>\n",
       "      <td>Versus World</td>\n",
       "      <td>2018-01-30</td>\n",
       "      <td>True</td>\n",
       "      <td>False</td>\n",
       "      <td>False</td>\n",
       "      <td>Very Positive</td>\n",
       "      <td>88</td>\n",
       "      <td>87</td>\n",
       "      <td>0.0</td>\n",
       "      <td>0.0</td>\n",
       "      <td>0.0</td>\n",
       "      <td>True</td>\n",
       "    </tr>\n",
       "    <tr>\n",
       "      <th>46064</th>\n",
       "      <td>886910</td>\n",
       "      <td>Bus Simulator 18 - Country Skin &amp; Decal Pack</td>\n",
       "      <td>2018-07-05</td>\n",
       "      <td>True</td>\n",
       "      <td>False</td>\n",
       "      <td>False</td>\n",
       "      <td>Very Positive</td>\n",
       "      <td>88</td>\n",
       "      <td>118</td>\n",
       "      <td>0.0</td>\n",
       "      <td>0.0</td>\n",
       "      <td>0.0</td>\n",
       "      <td>True</td>\n",
       "    </tr>\n",
       "    <tr>\n",
       "      <th>46065</th>\n",
       "      <td>1477870</td>\n",
       "      <td>Elemental</td>\n",
       "      <td>2021-03-30</td>\n",
       "      <td>True</td>\n",
       "      <td>False</td>\n",
       "      <td>False</td>\n",
       "      <td>Mostly Positive</td>\n",
       "      <td>78</td>\n",
       "      <td>14</td>\n",
       "      <td>0.0</td>\n",
       "      <td>0.0</td>\n",
       "      <td>0.0</td>\n",
       "      <td>True</td>\n",
       "    </tr>\n",
       "    <tr>\n",
       "      <th>46066</th>\n",
       "      <td>1638430</td>\n",
       "      <td>Axial Disc 1</td>\n",
       "      <td>2021-08-15</td>\n",
       "      <td>True</td>\n",
       "      <td>False</td>\n",
       "      <td>False</td>\n",
       "      <td>Positive</td>\n",
       "      <td>95</td>\n",
       "      <td>42</td>\n",
       "      <td>0.0</td>\n",
       "      <td>0.0</td>\n",
       "      <td>0.0</td>\n",
       "      <td>True</td>\n",
       "    </tr>\n",
       "    <tr>\n",
       "      <th>46067</th>\n",
       "      <td>2277670</td>\n",
       "      <td>Hank: Straightjacket</td>\n",
       "      <td>2023-02-01</td>\n",
       "      <td>True</td>\n",
       "      <td>False</td>\n",
       "      <td>False</td>\n",
       "      <td>Mixed</td>\n",
       "      <td>66</td>\n",
       "      <td>12</td>\n",
       "      <td>0.0</td>\n",
       "      <td>0.0</td>\n",
       "      <td>0.0</td>\n",
       "      <td>True</td>\n",
       "    </tr>\n",
       "  </tbody>\n",
       "</table>\n",
       "</div>"
      ],
      "text/plain": [
       "        app_id                                         title date_release  \\\n",
       "46063   758560                                  Versus World   2018-01-30   \n",
       "46064   886910  Bus Simulator 18 - Country Skin & Decal Pack   2018-07-05   \n",
       "46065  1477870                                     Elemental   2021-03-30   \n",
       "46066  1638430                                  Axial Disc 1   2021-08-15   \n",
       "46067  2277670                          Hank: Straightjacket   2023-02-01   \n",
       "\n",
       "        win    mac  linux           rating  positive_ratio  user_reviews  \\\n",
       "46063  True  False  False    Very Positive              88            87   \n",
       "46064  True  False  False    Very Positive              88           118   \n",
       "46065  True  False  False  Mostly Positive              78            14   \n",
       "46066  True  False  False         Positive              95            42   \n",
       "46067  True  False  False            Mixed              66            12   \n",
       "\n",
       "       price_final  price_original  discount  steam_deck  \n",
       "46063          0.0             0.0       0.0        True  \n",
       "46064          0.0             0.0       0.0        True  \n",
       "46065          0.0             0.0       0.0        True  \n",
       "46066          0.0             0.0       0.0        True  \n",
       "46067          0.0             0.0       0.0        True  "
      ]
     },
     "execution_count": 443,
     "metadata": {},
     "output_type": "execute_result"
    }
   ],
   "source": [
    "arty.tail()"
   ]
  },
  {
   "cell_type": "markdown",
   "id": "35d1841c",
   "metadata": {},
   "source": [
    "Here i am using the .describe() function display the details of each column and row "
   ]
  },
  {
   "cell_type": "code",
   "execution_count": 444,
   "id": "0adb76d9",
   "metadata": {},
   "outputs": [
    {
     "data": {
      "text/html": [
       "<div>\n",
       "<style scoped>\n",
       "    .dataframe tbody tr th:only-of-type {\n",
       "        vertical-align: middle;\n",
       "    }\n",
       "\n",
       "    .dataframe tbody tr th {\n",
       "        vertical-align: top;\n",
       "    }\n",
       "\n",
       "    .dataframe thead th {\n",
       "        text-align: right;\n",
       "    }\n",
       "</style>\n",
       "<table border=\"1\" class=\"dataframe\">\n",
       "  <thead>\n",
       "    <tr style=\"text-align: right;\">\n",
       "      <th></th>\n",
       "      <th>app_id</th>\n",
       "      <th>positive_ratio</th>\n",
       "      <th>user_reviews</th>\n",
       "      <th>price_final</th>\n",
       "      <th>price_original</th>\n",
       "      <th>discount</th>\n",
       "    </tr>\n",
       "  </thead>\n",
       "  <tbody>\n",
       "    <tr>\n",
       "      <th>count</th>\n",
       "      <td>4.606800e+04</td>\n",
       "      <td>46068.000000</td>\n",
       "      <td>4.606800e+04</td>\n",
       "      <td>46068.000000</td>\n",
       "      <td>46068.000000</td>\n",
       "      <td>46068.000000</td>\n",
       "    </tr>\n",
       "    <tr>\n",
       "      <th>mean</th>\n",
       "      <td>9.864431e+05</td>\n",
       "      <td>76.757988</td>\n",
       "      <td>1.843201e+03</td>\n",
       "      <td>8.750796</td>\n",
       "      <td>9.299008</td>\n",
       "      <td>5.185291</td>\n",
       "    </tr>\n",
       "    <tr>\n",
       "      <th>std</th>\n",
       "      <td>5.670487e+05</td>\n",
       "      <td>18.195317</td>\n",
       "      <td>3.908656e+04</td>\n",
       "      <td>11.364319</td>\n",
       "      <td>11.668360</td>\n",
       "      <td>18.190569</td>\n",
       "    </tr>\n",
       "    <tr>\n",
       "      <th>min</th>\n",
       "      <td>1.000000e+01</td>\n",
       "      <td>0.000000</td>\n",
       "      <td>1.000000e+01</td>\n",
       "      <td>0.000000</td>\n",
       "      <td>0.000000</td>\n",
       "      <td>0.000000</td>\n",
       "    </tr>\n",
       "    <tr>\n",
       "      <th>25%</th>\n",
       "      <td>5.017228e+05</td>\n",
       "      <td>66.000000</td>\n",
       "      <td>2.000000e+01</td>\n",
       "      <td>1.382500</td>\n",
       "      <td>1.990000</td>\n",
       "      <td>0.000000</td>\n",
       "    </tr>\n",
       "    <tr>\n",
       "      <th>50%</th>\n",
       "      <td>9.162850e+05</td>\n",
       "      <td>81.000000</td>\n",
       "      <td>5.300000e+01</td>\n",
       "      <td>4.990000</td>\n",
       "      <td>5.990000</td>\n",
       "      <td>0.000000</td>\n",
       "    </tr>\n",
       "    <tr>\n",
       "      <th>75%</th>\n",
       "      <td>1.422158e+06</td>\n",
       "      <td>91.000000</td>\n",
       "      <td>2.260000e+02</td>\n",
       "      <td>11.990000</td>\n",
       "      <td>12.990000</td>\n",
       "      <td>0.000000</td>\n",
       "    </tr>\n",
       "    <tr>\n",
       "      <th>max</th>\n",
       "      <td>2.319990e+06</td>\n",
       "      <td>100.000000</td>\n",
       "      <td>6.941137e+06</td>\n",
       "      <td>299.990000</td>\n",
       "      <td>299.990000</td>\n",
       "      <td>90.000000</td>\n",
       "    </tr>\n",
       "  </tbody>\n",
       "</table>\n",
       "</div>"
      ],
      "text/plain": [
       "             app_id  positive_ratio  user_reviews   price_final  \\\n",
       "count  4.606800e+04    46068.000000  4.606800e+04  46068.000000   \n",
       "mean   9.864431e+05       76.757988  1.843201e+03      8.750796   \n",
       "std    5.670487e+05       18.195317  3.908656e+04     11.364319   \n",
       "min    1.000000e+01        0.000000  1.000000e+01      0.000000   \n",
       "25%    5.017228e+05       66.000000  2.000000e+01      1.382500   \n",
       "50%    9.162850e+05       81.000000  5.300000e+01      4.990000   \n",
       "75%    1.422158e+06       91.000000  2.260000e+02     11.990000   \n",
       "max    2.319990e+06      100.000000  6.941137e+06    299.990000   \n",
       "\n",
       "       price_original      discount  \n",
       "count    46068.000000  46068.000000  \n",
       "mean         9.299008      5.185291  \n",
       "std         11.668360     18.190569  \n",
       "min          0.000000      0.000000  \n",
       "25%          1.990000      0.000000  \n",
       "50%          5.990000      0.000000  \n",
       "75%         12.990000      0.000000  \n",
       "max        299.990000     90.000000  "
      ]
     },
     "execution_count": 444,
     "metadata": {},
     "output_type": "execute_result"
    }
   ],
   "source": [
    "arty.describe()"
   ]
  },
  {
   "cell_type": "markdown",
   "id": "2f9a64d5",
   "metadata": {},
   "source": [
    "Here i am using the .shape() command to check the number of rows and columns\n",
    "in our dataset"
   ]
  },
  {
   "cell_type": "code",
   "execution_count": 445,
   "id": "5184f0db",
   "metadata": {},
   "outputs": [
    {
     "name": "stdout",
     "output_type": "stream",
     "text": [
      "The shape of the dataset is:\n"
     ]
    },
    {
     "data": {
      "text/plain": [
       "(46068, 13)"
      ]
     },
     "execution_count": 445,
     "metadata": {},
     "output_type": "execute_result"
    }
   ],
   "source": [
    "print (\"The shape of the dataset is:\")\n",
    "\n",
    "arty.shape"
   ]
  },
  {
   "cell_type": "markdown",
   "id": "b17860d1",
   "metadata": {},
   "source": [
    "Here i am using the len() command to check the length \n",
    "of our dataset "
   ]
  },
  {
   "cell_type": "code",
   "execution_count": 446,
   "id": "b89ebdda",
   "metadata": {},
   "outputs": [
    {
     "name": "stdout",
     "output_type": "stream",
     "text": [
      "The length of the dataset is:\n"
     ]
    },
    {
     "data": {
      "text/plain": [
       "46068"
      ]
     },
     "execution_count": 446,
     "metadata": {},
     "output_type": "execute_result"
    }
   ],
   "source": [
    "print (\"The length of the dataset is:\")\n",
    "\n",
    "len(arty)"
   ]
  },
  {
   "cell_type": "markdown",
   "id": "25f50158",
   "metadata": {},
   "source": [
    "Using the .info() command to check the information regarding\n",
    "our dataset\n",
    "ie: number of columns with names, non null count and datatype of the columns"
   ]
  },
  {
   "cell_type": "code",
   "execution_count": 447,
   "id": "9aff99b4",
   "metadata": {
    "scrolled": true
   },
   "outputs": [
    {
     "name": "stdout",
     "output_type": "stream",
     "text": [
      "<class 'pandas.core.frame.DataFrame'>\n",
      "RangeIndex: 46068 entries, 0 to 46067\n",
      "Data columns (total 13 columns):\n",
      " #   Column          Non-Null Count  Dtype  \n",
      "---  ------          --------------  -----  \n",
      " 0   app_id          46068 non-null  int64  \n",
      " 1   title           46068 non-null  object \n",
      " 2   date_release    46068 non-null  object \n",
      " 3   win             46068 non-null  bool   \n",
      " 4   mac             46068 non-null  bool   \n",
      " 5   linux           46068 non-null  bool   \n",
      " 6   rating          46068 non-null  object \n",
      " 7   positive_ratio  46068 non-null  int64  \n",
      " 8   user_reviews    46068 non-null  int64  \n",
      " 9   price_final     46068 non-null  float64\n",
      " 10  price_original  46068 non-null  float64\n",
      " 11  discount        46068 non-null  float64\n",
      " 12  steam_deck      46068 non-null  bool   \n",
      "dtypes: bool(4), float64(3), int64(3), object(3)\n",
      "memory usage: 3.3+ MB\n"
     ]
    }
   ],
   "source": [
    "arty.info()"
   ]
  },
  {
   "cell_type": "markdown",
   "id": "e133a635",
   "metadata": {},
   "source": [
    "Using the .isnull() function to check the null or missing values in\n",
    "our dataset and then at the same time using .sum() function to get\n",
    "the sum of all the missing values in our dataset"
   ]
  },
  {
   "cell_type": "code",
   "execution_count": 448,
   "id": "7d92cc37",
   "metadata": {
    "scrolled": true
   },
   "outputs": [
    {
     "data": {
      "text/plain": [
       "app_id            0\n",
       "title             0\n",
       "date_release      0\n",
       "win               0\n",
       "mac               0\n",
       "linux             0\n",
       "rating            0\n",
       "positive_ratio    0\n",
       "user_reviews      0\n",
       "price_final       0\n",
       "price_original    0\n",
       "discount          0\n",
       "steam_deck        0\n",
       "dtype: int64"
      ]
     },
     "execution_count": 448,
     "metadata": {},
     "output_type": "execute_result"
    }
   ],
   "source": [
    "arty.isnull().sum()"
   ]
  },
  {
   "cell_type": "markdown",
   "id": "43665898",
   "metadata": {},
   "source": [
    "Using the .duplicated() function to check wether there is\n",
    "a same data in our dataset and at the same time using the\n",
    ".sum() function to sum all the duplicates variables in our\n",
    "dataset "
   ]
  },
  {
   "cell_type": "code",
   "execution_count": 449,
   "id": "428900bb",
   "metadata": {},
   "outputs": [
    {
     "data": {
      "text/plain": [
       "0"
      ]
     },
     "execution_count": 449,
     "metadata": {},
     "output_type": "execute_result"
    }
   ],
   "source": [
    "arty.duplicated().sum()"
   ]
  },
  {
   "cell_type": "markdown",
   "id": "1b3b425a",
   "metadata": {},
   "source": [
    "Checking wether the two columns 'price_final' and  'price_original' have the samme values or not\n",
    "If they have the same values the output will be true and if they do not have the same values then \n",
    "the output will be false"
   ]
  },
  {
   "cell_type": "code",
   "execution_count": 450,
   "id": "7c50259d",
   "metadata": {},
   "outputs": [
    {
     "data": {
      "text/plain": [
       "False"
      ]
     },
     "execution_count": 450,
     "metadata": {},
     "output_type": "execute_result"
    }
   ],
   "source": [
    "arty['price_final'].equals(arty['price_original'])  # Returns True\n"
   ]
  },
  {
   "cell_type": "markdown",
   "id": "3d974953",
   "metadata": {},
   "source": [
    "Using the .value_counts() function to check how many number of true and false are present in 'win' columns"
   ]
  },
  {
   "cell_type": "code",
   "execution_count": 451,
   "id": "4b9d932b",
   "metadata": {
    "scrolled": true
   },
   "outputs": [
    {
     "data": {
      "text/plain": [
       "True     45379\n",
       "False      689\n",
       "Name: win, dtype: int64"
      ]
     },
     "execution_count": 451,
     "metadata": {},
     "output_type": "execute_result"
    }
   ],
   "source": [
    "arty.win.value_counts()"
   ]
  },
  {
   "cell_type": "markdown",
   "id": "fcf9bdad",
   "metadata": {},
   "source": [
    "Using the seaborn library which is used for data visualization and from this library using the countplot graphical \n",
    "representation to show the number of true and false in the column 'win'"
   ]
  },
  {
   "cell_type": "code",
   "execution_count": 452,
   "id": "374f2c18",
   "metadata": {
    "scrolled": false
   },
   "outputs": [
    {
     "name": "stderr",
     "output_type": "stream",
     "text": [
      "E:\\Anaconda\\lib\\site-packages\\seaborn\\_decorators.py:36: FutureWarning: Pass the following variable as a keyword arg: x. From version 0.12, the only valid positional argument will be `data`, and passing other arguments without an explicit keyword will result in an error or misinterpretation.\n",
      "  warnings.warn(\n"
     ]
    },
    {
     "data": {
      "text/plain": [
       "<AxesSubplot:xlabel='win', ylabel='count'>"
      ]
     },
     "execution_count": 452,
     "metadata": {},
     "output_type": "execute_result"
    },
    {
     "data": {
      "image/png": "[encoded data removed]",
      "text/plain": [
       "<Figure size 432x288 with 1 Axes>"
      ]
     },
     "metadata": {
      "needs_background": "light"
     },
     "output_type": "display_data"
    }
   ],
   "source": [
    "sns.countplot (arty['win'])"
   ]
  },
  {
   "cell_type": "markdown",
   "id": "08ac2725",
   "metadata": {},
   "source": [
    "Using the .value_counts() function to check how many number of true and false are present in 'mac' columns"
   ]
  },
  {
   "cell_type": "code",
   "execution_count": 453,
   "id": "b0008053",
   "metadata": {
    "scrolled": true
   },
   "outputs": [
    {
     "data": {
      "text/plain": [
       "False    33897\n",
       "True     12171\n",
       "Name: mac, dtype: int64"
      ]
     },
     "execution_count": 453,
     "metadata": {},
     "output_type": "execute_result"
    }
   ],
   "source": [
    "arty.mac.value_counts()"
   ]
  },
  {
   "cell_type": "markdown",
   "id": "d05491b7",
   "metadata": {},
   "source": [
    "Using the seaborn library which is used for data visualization and from this library using the countplot graphical \n",
    "representation to show the number of true and false in the column 'mac'"
   ]
  },
  {
   "cell_type": "code",
   "execution_count": 454,
   "id": "b910fd20",
   "metadata": {},
   "outputs": [
    {
     "name": "stderr",
     "output_type": "stream",
     "text": [
      "E:\\Anaconda\\lib\\site-packages\\seaborn\\_decorators.py:36: FutureWarning: Pass the following variable as a keyword arg: x. From version 0.12, the only valid positional argument will be `data`, and passing other arguments without an explicit keyword will result in an error or misinterpretation.\n",
      "  warnings.warn(\n"
     ]
    },
    {
     "data": {
      "text/plain": [
       "<AxesSubplot:xlabel='mac', ylabel='count'>"
      ]
     },
     "execution_count": 454,
     "metadata": {},
     "output_type": "execute_result"
    },
    {
     "data": {
      "image/png": "[encoded data removed]",
      "text/plain": [
       "<Figure size 432x288 with 1 Axes>"
      ]
     },
     "metadata": {
      "needs_background": "light"
     },
     "output_type": "display_data"
    }
   ],
   "source": [
    "sns.countplot (arty['mac'])"
   ]
  },
  {
   "cell_type": "markdown",
   "id": "0f27a71f",
   "metadata": {},
   "source": [
    "Using the .value_counts() function to check how many number of true and false are present in 'linux' columns"
   ]
  },
  {
   "cell_type": "code",
   "execution_count": 455,
   "id": "093a6afb",
   "metadata": {
    "scrolled": true
   },
   "outputs": [
    {
     "data": {
      "text/plain": [
       "False    37626\n",
       "True      8442\n",
       "Name: linux, dtype: int64"
      ]
     },
     "execution_count": 455,
     "metadata": {},
     "output_type": "execute_result"
    }
   ],
   "source": [
    "arty.linux.value_counts()"
   ]
  },
  {
   "cell_type": "markdown",
   "id": "10222674",
   "metadata": {},
   "source": [
    "Using the seaborn library which is used for data visualization and from this library using the countplot graphical \n",
    "representation to show the number of true and false in the column 'linux'"
   ]
  },
  {
   "cell_type": "code",
   "execution_count": 456,
   "id": "9e3140cc",
   "metadata": {
    "scrolled": false
   },
   "outputs": [
    {
     "name": "stderr",
     "output_type": "stream",
     "text": [
      "E:\\Anaconda\\lib\\site-packages\\seaborn\\_decorators.py:36: FutureWarning: Pass the following variable as a keyword arg: x. From version 0.12, the only valid positional argument will be `data`, and passing other arguments without an explicit keyword will result in an error or misinterpretation.\n",
      "  warnings.warn(\n"
     ]
    },
    {
     "data": {
      "text/plain": [
       "<AxesSubplot:xlabel='linux', ylabel='count'>"
      ]
     },
     "execution_count": 456,
     "metadata": {},
     "output_type": "execute_result"
    },
    {
     "data": {
      "image/png": "[encoded data removed]",
      "text/plain": [
       "<Figure size 432x288 with 1 Axes>"
      ]
     },
     "metadata": {
      "needs_background": "light"
     },
     "output_type": "display_data"
    }
   ],
   "source": [
    "sns.countplot (arty['linux'])"
   ]
  },
  {
   "cell_type": "markdown",
   "id": "d7fa10c5",
   "metadata": {},
   "source": [
    "Using the .describe() function to check the details of the column 'positive_ratio'"
   ]
  },
  {
   "cell_type": "code",
   "execution_count": 457,
   "id": "0b9e8728",
   "metadata": {},
   "outputs": [
    {
     "data": {
      "text/plain": [
       "count    46068.000000\n",
       "mean        76.757988\n",
       "std         18.195317\n",
       "min          0.000000\n",
       "25%         66.000000\n",
       "50%         81.000000\n",
       "75%         91.000000\n",
       "max        100.000000\n",
       "Name: positive_ratio, dtype: float64"
      ]
     },
     "execution_count": 457,
     "metadata": {},
     "output_type": "execute_result"
    }
   ],
   "source": [
    "arty.positive_ratio.describe()"
   ]
  },
  {
   "cell_type": "markdown",
   "id": "f27aed9d",
   "metadata": {},
   "source": [
    "Using the .hist() to print a histogram for the column 'positive_ratio' to check the probability distribution\n",
    "and then using the plt.show() to show the open figure"
   ]
  },
  {
   "cell_type": "markdown",
   "id": "b7c55bf2",
   "metadata": {},
   "source": [
    "Using the functions .skew() which stands for skewness and is the measure of symmetry and .kurt() which stands for kurtosis \n",
    "and is used to check wether the data is heavy tailed or light tailed relative to the normal distribution for the column 'positive_ratio'"
   ]
  },
  {
   "cell_type": "code",
   "execution_count": 458,
   "id": "5443f2e9",
   "metadata": {
    "scrolled": true
   },
   "outputs": [
    {
     "name": "stdout",
     "output_type": "stream",
     "text": [
      "Skewness: -1.0438992449477384\n",
      "Kurtosis: 0.8344373368682447\n"
     ]
    }
   ],
   "source": [
    "print(f\"Skewness: {arty['positive_ratio'].skew()}\")\n",
    "print(f\"Kurtosis: {arty['positive_ratio'].kurt()}\")"
   ]
  },
  {
   "cell_type": "markdown",
   "id": "077504d9",
   "metadata": {},
   "source": [
    "Using the .describe() function to check the details of the column 'user_reviews'"
   ]
  },
  {
   "cell_type": "code",
   "execution_count": 459,
   "id": "e46f0917",
   "metadata": {},
   "outputs": [
    {
     "data": {
      "text/plain": [
       "count    4.606800e+04\n",
       "mean     1.843201e+03\n",
       "std      3.908656e+04\n",
       "min      1.000000e+01\n",
       "25%      2.000000e+01\n",
       "50%      5.300000e+01\n",
       "75%      2.260000e+02\n",
       "max      6.941137e+06\n",
       "Name: user_reviews, dtype: float64"
      ]
     },
     "execution_count": 459,
     "metadata": {},
     "output_type": "execute_result"
    }
   ],
   "source": [
    "arty.user_reviews.describe()"
   ]
  },
  {
   "cell_type": "markdown",
   "id": "9b34b052",
   "metadata": {},
   "source": [
    "Using the .hist() to print a histogram for the column 'user_reviews' to check the probability distribution\n",
    "and then using the plt.show() to show the open figure"
   ]
  },
  {
   "cell_type": "code",
   "execution_count": 460,
   "id": "4f310da9",
   "metadata": {
    "scrolled": false
   },
   "outputs": [
    {
     "data": {
      "image/png": "[encoded data removed]",
      "text/plain": [
       "<Figure size 432x288 with 1 Axes>"
      ]
     },
     "metadata": {
      "needs_background": "light"
     },
     "output_type": "display_data"
    }
   ],
   "source": [
    "plt.hist(arty.user_reviews, bins = 5)\n",
    "plt.show()"
   ]
  },
  {
   "cell_type": "markdown",
   "id": "bce55432",
   "metadata": {},
   "source": [
    "Using the functions .skew() which stands for skewness and is the measure of symmetry and .kurt() which stands for kurtosis \n",
    "and is used to check wether the data is heavy tailed or light tailed relative to the normal distribution for the column 'user_reviews'"
   ]
  },
  {
   "cell_type": "code",
   "execution_count": 461,
   "id": "2c9d34a7",
   "metadata": {
    "scrolled": true
   },
   "outputs": [
    {
     "name": "stdout",
     "output_type": "stream",
     "text": [
      "Skewness: 130.7827342230576\n",
      "Kurtosis: 21959.769267407217\n"
     ]
    }
   ],
   "source": [
    "print(f\"Skewness: {arty['user_reviews'].skew()}\")\n",
    "print(f\"Kurtosis: {arty['user_reviews'].kurt()}\")"
   ]
  },
  {
   "cell_type": "markdown",
   "id": "b216251b",
   "metadata": {},
   "source": [
    "Using the .describe() function to check the details of the column 'price_final'"
   ]
  },
  {
   "cell_type": "code",
   "execution_count": 462,
   "id": "83c201a4",
   "metadata": {
    "scrolled": true
   },
   "outputs": [
    {
     "data": {
      "text/plain": [
       "count    46068.000000\n",
       "mean         8.750796\n",
       "std         11.364319\n",
       "min          0.000000\n",
       "25%          1.382500\n",
       "50%          4.990000\n",
       "75%         11.990000\n",
       "max        299.990000\n",
       "Name: price_final, dtype: float64"
      ]
     },
     "execution_count": 462,
     "metadata": {},
     "output_type": "execute_result"
    }
   ],
   "source": [
    "arty.price_final.describe()"
   ]
  },
  {
   "cell_type": "markdown",
   "id": "76a65dcf",
   "metadata": {},
   "source": [
    "Using the .hist() to print a histogram for the column 'price_final' to check the probability distribution\n",
    "and then using the plt.show() to show the open figure"
   ]
  },
  {
   "cell_type": "code",
   "execution_count": 463,
   "id": "12bd1f72",
   "metadata": {
    "scrolled": true
   },
   "outputs": [
    {
     "data": {
      "image/png": "[encoded data removed]",
      "text/plain": [
       "<Figure size 432x288 with 1 Axes>"
      ]
     },
     "metadata": {
      "needs_background": "light"
     },
     "output_type": "display_data"
    }
   ],
   "source": [
    "plt.hist(arty.price_final, bins = 70)\n",
    "plt.show()"
   ]
  },
  {
   "cell_type": "markdown",
   "id": "6b46ef4d",
   "metadata": {},
   "source": [
    "Using the functions .skew() which stands for skewness and is the measure of symmetry and .kurt() which stands for kurtosis \n",
    "and is used to check wether the data is heavy tailed or light tailed relative to the normal distribution for the column 'price_final'"
   ]
  },
  {
   "cell_type": "code",
   "execution_count": 464,
   "id": "362bfd1e",
   "metadata": {
    "scrolled": true
   },
   "outputs": [
    {
     "name": "stdout",
     "output_type": "stream",
     "text": [
      "Skewness: 4.707482840117409\n",
      "Kurtosis: 55.92573729367498\n"
     ]
    }
   ],
   "source": [
    "print(f\"Skewness: {arty['price_final'].skew()}\")\n",
    "print(f\"Kurtosis: {arty['price_final'].kurt()}\")"
   ]
  },
  {
   "cell_type": "markdown",
   "id": "ff9af626",
   "metadata": {},
   "source": [
    "Using the .describe() function to check the details of the column 'price_original'"
   ]
  },
  {
   "cell_type": "code",
   "execution_count": 465,
   "id": "b00f4064",
   "metadata": {},
   "outputs": [
    {
     "data": {
      "text/plain": [
       "count    46068.000000\n",
       "mean         9.299008\n",
       "std         11.668360\n",
       "min          0.000000\n",
       "25%          1.990000\n",
       "50%          5.990000\n",
       "75%         12.990000\n",
       "max        299.990000\n",
       "Name: price_original, dtype: float64"
      ]
     },
     "execution_count": 465,
     "metadata": {},
     "output_type": "execute_result"
    }
   ],
   "source": [
    "arty.price_original.describe()"
   ]
  },
  {
   "cell_type": "markdown",
   "id": "3c387174",
   "metadata": {},
   "source": [
    "Using the .hist() to print a histogram for the column 'price_original' to check the probability distribution\n",
    "and then using the plt.show() to show the open figure"
   ]
  },
  {
   "cell_type": "code",
   "execution_count": 466,
   "id": "4a603176",
   "metadata": {},
   "outputs": [
    {
     "data": {
      "image/png": "[encoded data removed]",
      "text/plain": [
       "<Figure size 432x288 with 1 Axes>"
      ]
     },
     "metadata": {
      "needs_background": "light"
     },
     "output_type": "display_data"
    }
   ],
   "source": [
    "plt.hist(arty.price_original, bins = 70)\n",
    "plt.show()"
   ]
  },
  {
   "cell_type": "markdown",
   "id": "36792108",
   "metadata": {},
   "source": [
    "Using the functions .skew() which stands for skewness and is the measure of symmetry and .kurt() which stands for kurtosis \n",
    "and is used to check wether the data is heavy tailed or light tailed relative to the normal distribution for the column 'price_original'"
   ]
  },
  {
   "cell_type": "code",
   "execution_count": 467,
   "id": "ea7d7507",
   "metadata": {},
   "outputs": [
    {
     "name": "stdout",
     "output_type": "stream",
     "text": [
      "Skewness: 4.523322943286114\n",
      "Kurtosis: 51.59861026031216\n"
     ]
    }
   ],
   "source": [
    "print(f\"Skewness: {arty['price_original'].skew()}\")\n",
    "print(f\"Kurtosis: {arty['price_original'].kurt()}\")"
   ]
  },
  {
   "cell_type": "markdown",
   "id": "1ebefb93",
   "metadata": {},
   "source": [
    "Using the .barplot() function to plot a barplot and show the relationship between the two columns 'positive_ratio' and 'win'"
   ]
  },
  {
   "cell_type": "code",
   "execution_count": 468,
   "id": "fdd00993",
   "metadata": {
    "scrolled": true
   },
   "outputs": [
    {
     "data": {
      "image/png": "[encoded data removed]",
      "text/plain": [
       "<Figure size 432x288 with 1 Axes>"
      ]
     },
     "metadata": {
      "needs_background": "light"
     },
     "output_type": "display_data"
    }
   ],
   "source": [
    "sns.barplot(y='positive_ratio',x='win',data=arty);"
   ]
  },
  {
   "cell_type": "markdown",
   "id": "c0b6504b",
   "metadata": {},
   "source": [
    "Using the .barplot() function to plot a barplot and show the relationship between the two columns 'positive_ratio' and 'mac'"
   ]
  },
  {
   "cell_type": "code",
   "execution_count": 469,
   "id": "8b0cc6b2",
   "metadata": {
    "scrolled": true
   },
   "outputs": [
    {
     "data": {
      "image/png": "[encoded data removed]",
      "text/plain": [
       "<Figure size 432x288 with 1 Axes>"
      ]
     },
     "metadata": {
      "needs_background": "light"
     },
     "output_type": "display_data"
    }
   ],
   "source": [
    "sns.barplot(y='positive_ratio',x='mac',data=arty);"
   ]
  },
  {
   "cell_type": "markdown",
   "id": "ab903401",
   "metadata": {},
   "source": [
    "Using the .barplot() function to plot a barplot and show the relationship between the two columns 'positive_ratio' and 'linux'"
   ]
  },
  {
   "cell_type": "code",
   "execution_count": 470,
   "id": "56e5c46d",
   "metadata": {},
   "outputs": [
    {
     "data": {
      "image/png": "[encoded data removed]",
      "text/plain": [
       "<Figure size 432x288 with 1 Axes>"
      ]
     },
     "metadata": {
      "needs_background": "light"
     },
     "output_type": "display_data"
    }
   ],
   "source": [
    "sns.barplot(y='positive_ratio',x='linux',data=arty);"
   ]
  },
  {
   "cell_type": "markdown",
   "id": "4e0b70a3",
   "metadata": {},
   "source": [
    "Using the .barplot() function to plot a barplot and show the relationship between the two columns 'rating' and 'user_reviews'"
   ]
  },
  {
   "cell_type": "code",
   "execution_count": 471,
   "id": "6bddb913",
   "metadata": {
    "scrolled": true
   },
   "outputs": [
    {
     "data": {
      "image/png": "[encoded data removed]",
      "text/plain": [
       "<Figure size 432x288 with 1 Axes>"
      ]
     },
     "metadata": {
      "needs_background": "light"
     },
     "output_type": "display_data"
    }
   ],
   "source": [
    "sns.barplot(y='rating',x='user_reviews',data=arty);"
   ]
  },
  {
   "cell_type": "markdown",
   "id": "7b2e87f7",
   "metadata": {},
   "source": [
    "Using the .barplot() function to plot a barplot and show the relationship between the two columns 'rating' and 'price_final'"
   ]
  },
  {
   "cell_type": "code",
   "execution_count": 472,
   "id": "3173354b",
   "metadata": {
    "scrolled": false
   },
   "outputs": [
    {
     "data": {
      "image/png": "[encoded data removed]",
      "text/plain": [
       "<Figure size 432x288 with 1 Axes>"
      ]
     },
     "metadata": {
      "needs_background": "light"
     },
     "output_type": "display_data"
    }
   ],
   "source": [
    "sns.barplot(y='rating',x='price_final',data=arty);"
   ]
  },
  {
   "cell_type": "code",
   "execution_count": 473,
   "id": "be67a994",
   "metadata": {},
   "outputs": [
    {
     "data": {
      "text/plain": [
       "Text(0.5, 1.0, 'Co-Relation Heatmap between Features')"
      ]
     },
     "execution_count": 473,
     "metadata": {},
     "output_type": "execute_result"
    },
    {
     "data": {
      "image/png": "[encoded data removed]",
      "text/plain": [
       "<Figure size 432x288 with 2 Axes>"
      ]
     },
     "metadata": {
      "needs_background": "light"
     },
     "output_type": "display_data"
    }
   ],
   "source": [
    "dcorr = arty.corr(method = 'pearson')\n",
    "ax = sns.heatmap (dcorr, vmin = -1, vmax = 1, cmap = 'BrBG')\n",
    "ax.set_title (\"Co-Relation Heatmap between Features\")"
   ]
  },
  {
   "cell_type": "markdown",
   "id": "7a0c140f",
   "metadata": {},
   "source": [
    "Changing the value of the column 'date_release' using the built in function of panda to_datetime"
   ]
  },
  {
   "cell_type": "code",
   "execution_count": 474,
   "id": "ff583e78",
   "metadata": {},
   "outputs": [],
   "source": [
    "arty ['date_release'] = pd.to_datetime(arty ['date_release'])"
   ]
  },
  {
   "cell_type": "markdown",
   "id": "7e2e8eea",
   "metadata": {},
   "source": [
    "# Questions"
   ]
  },
  {
   "cell_type": "markdown",
   "id": "f85b4a9a",
   "metadata": {},
   "source": [
    "1. Display 20 Games which are popular in 2023 with user reviews and positive ratio greater than 85."
   ]
  },
  {
   "cell_type": "code",
   "execution_count": 475,
   "id": "df9c0723",
   "metadata": {},
   "outputs": [
    {
     "data": {
      "text/html": [
       "<div>\n",
       "<style scoped>\n",
       "    .dataframe tbody tr th:only-of-type {\n",
       "        vertical-align: middle;\n",
       "    }\n",
       "\n",
       "    .dataframe tbody tr th {\n",
       "        vertical-align: top;\n",
       "    }\n",
       "\n",
       "    .dataframe thead th {\n",
       "        text-align: right;\n",
       "    }\n",
       "</style>\n",
       "<table border=\"1\" class=\"dataframe\">\n",
       "  <thead>\n",
       "    <tr style=\"text-align: right;\">\n",
       "      <th></th>\n",
       "      <th>title</th>\n",
       "      <th>user_reviews</th>\n",
       "      <th>positive_ratio</th>\n",
       "    </tr>\n",
       "  </thead>\n",
       "  <tbody>\n",
       "    <tr>\n",
       "      <th>12016</th>\n",
       "      <td>Hogwarts Legacy</td>\n",
       "      <td>84327</td>\n",
       "      <td>93</td>\n",
       "    </tr>\n",
       "    <tr>\n",
       "      <th>31546</th>\n",
       "      <td>Sons Of The Forest</td>\n",
       "      <td>30018</td>\n",
       "      <td>85</td>\n",
       "    </tr>\n",
       "    <tr>\n",
       "      <th>19128</th>\n",
       "      <td>Dead Space</td>\n",
       "      <td>18324</td>\n",
       "      <td>92</td>\n",
       "    </tr>\n",
       "    <tr>\n",
       "      <th>8076</th>\n",
       "      <td>觅长生</td>\n",
       "      <td>15559</td>\n",
       "      <td>92</td>\n",
       "    </tr>\n",
       "    <tr>\n",
       "      <th>30782</th>\n",
       "      <td>Omega Strikers</td>\n",
       "      <td>10998</td>\n",
       "      <td>88</td>\n",
       "    </tr>\n",
       "    <tr>\n",
       "      <th>8108</th>\n",
       "      <td>Hi-Fi RUSH</td>\n",
       "      <td>9400</td>\n",
       "      <td>98</td>\n",
       "    </tr>\n",
       "    <tr>\n",
       "      <th>42207</th>\n",
       "      <td>东北之夏</td>\n",
       "      <td>8739</td>\n",
       "      <td>98</td>\n",
       "    </tr>\n",
       "    <tr>\n",
       "      <th>29144</th>\n",
       "      <td>Atomic Heart</td>\n",
       "      <td>7574</td>\n",
       "      <td>87</td>\n",
       "    </tr>\n",
       "    <tr>\n",
       "      <th>10534</th>\n",
       "      <td>Luck be a Landlord</td>\n",
       "      <td>6404</td>\n",
       "      <td>93</td>\n",
       "    </tr>\n",
       "    <tr>\n",
       "      <th>20532</th>\n",
       "      <td>Pizza Tower</td>\n",
       "      <td>4737</td>\n",
       "      <td>99</td>\n",
       "    </tr>\n",
       "    <tr>\n",
       "      <th>15820</th>\n",
       "      <td>Breakout 13</td>\n",
       "      <td>3997</td>\n",
       "      <td>85</td>\n",
       "    </tr>\n",
       "    <tr>\n",
       "      <th>16154</th>\n",
       "      <td>Your Only Move Is HUSTLE</td>\n",
       "      <td>2684</td>\n",
       "      <td>96</td>\n",
       "    </tr>\n",
       "    <tr>\n",
       "      <th>13679</th>\n",
       "      <td>天外武林 (Traveler of Wuxia)</td>\n",
       "      <td>2114</td>\n",
       "      <td>85</td>\n",
       "    </tr>\n",
       "    <tr>\n",
       "      <th>21278</th>\n",
       "      <td>Juno: New Origins</td>\n",
       "      <td>1830</td>\n",
       "      <td>90</td>\n",
       "    </tr>\n",
       "    <tr>\n",
       "      <th>3650</th>\n",
       "      <td>DR LIVESEY ROM AND DEATH EDITION</td>\n",
       "      <td>1803</td>\n",
       "      <td>96</td>\n",
       "    </tr>\n",
       "    <tr>\n",
       "      <th>43262</th>\n",
       "      <td>I commissioned some bees 0</td>\n",
       "      <td>1542</td>\n",
       "      <td>98</td>\n",
       "    </tr>\n",
       "    <tr>\n",
       "      <th>15451</th>\n",
       "      <td>Good Pizza Great Pizza - Cooking Simulator Game</td>\n",
       "      <td>1356</td>\n",
       "      <td>91</td>\n",
       "    </tr>\n",
       "    <tr>\n",
       "      <th>17609</th>\n",
       "      <td>Cultivation Story: Reincarnation</td>\n",
       "      <td>1317</td>\n",
       "      <td>94</td>\n",
       "    </tr>\n",
       "    <tr>\n",
       "      <th>451</th>\n",
       "      <td>A Space for the Unbound</td>\n",
       "      <td>1238</td>\n",
       "      <td>98</td>\n",
       "    </tr>\n",
       "    <tr>\n",
       "      <th>2000</th>\n",
       "      <td>Gorilla Tag</td>\n",
       "      <td>1061</td>\n",
       "      <td>90</td>\n",
       "    </tr>\n",
       "  </tbody>\n",
       "</table>\n",
       "</div>"
      ],
      "text/plain": [
       "                                                 title  user_reviews  \\\n",
       "12016                                  Hogwarts Legacy         84327   \n",
       "31546                               Sons Of The Forest         30018   \n",
       "19128                                       Dead Space         18324   \n",
       "8076                                               觅长生         15559   \n",
       "30782                                   Omega Strikers         10998   \n",
       "8108                                        Hi-Fi RUSH          9400   \n",
       "42207                                             东北之夏          8739   \n",
       "29144                                     Atomic Heart          7574   \n",
       "10534                               Luck be a Landlord          6404   \n",
       "20532                                      Pizza Tower          4737   \n",
       "15820                                      Breakout 13          3997   \n",
       "16154                         Your Only Move Is HUSTLE          2684   \n",
       "13679                         天外武林 (Traveler of Wuxia)          2114   \n",
       "21278                                Juno: New Origins          1830   \n",
       "3650                  DR LIVESEY ROM AND DEATH EDITION          1803   \n",
       "43262                       I commissioned some bees 0          1542   \n",
       "15451  Good Pizza Great Pizza - Cooking Simulator Game          1356   \n",
       "17609                 Cultivation Story: Reincarnation          1317   \n",
       "451                            A Space for the Unbound          1238   \n",
       "2000                                       Gorilla Tag          1061   \n",
       "\n",
       "       positive_ratio  \n",
       "12016              93  \n",
       "31546              85  \n",
       "19128              92  \n",
       "8076               92  \n",
       "30782              88  \n",
       "8108               98  \n",
       "42207              98  \n",
       "29144              87  \n",
       "10534              93  \n",
       "20532              99  \n",
       "15820              85  \n",
       "16154              96  \n",
       "13679              85  \n",
       "21278              90  \n",
       "3650               96  \n",
       "43262              98  \n",
       "15451              91  \n",
       "17609              94  \n",
       "451                98  \n",
       "2000               90  "
      ]
     },
     "execution_count": 475,
     "metadata": {},
     "output_type": "execute_result"
    }
   ],
   "source": [
    "Q1=arty.loc[(arty['date_release'].dt.year == 2023) & (arty['positive_ratio'] >= 85)].sort_values(['user_reviews','positive_ratio'],ascending=[False,False]).head(20)\n",
    "Q1[['title','user_reviews','positive_ratio']]"
   ]
  },
  {
   "cell_type": "markdown",
   "id": "1724c7d0",
   "metadata": {},
   "source": [
    "Here im using the .loc() function to target the specific columns of my dataset and accessing the 'date_release' and 'positive_ratio' to show the specific games which are asked in the question and sorting through the column 'user_reviews' and 'positive_ratio' displaying 10 games with columns 'title', 'positive_ratio', 'user_reviews' "
   ]
  },
  {
   "cell_type": "markdown",
   "id": "45b4923f",
   "metadata": {},
   "source": [
    "2. Display 10 games which have positive ratio greater than 95%"
   ]
  },
  {
   "cell_type": "code",
   "execution_count": 476,
   "id": "0fca0819",
   "metadata": {},
   "outputs": [
    {
     "data": {
      "text/html": [
       "<div>\n",
       "<style scoped>\n",
       "    .dataframe tbody tr th:only-of-type {\n",
       "        vertical-align: middle;\n",
       "    }\n",
       "\n",
       "    .dataframe tbody tr th {\n",
       "        vertical-align: top;\n",
       "    }\n",
       "\n",
       "    .dataframe thead th {\n",
       "        text-align: right;\n",
       "    }\n",
       "</style>\n",
       "<table border=\"1\" class=\"dataframe\">\n",
       "  <thead>\n",
       "    <tr style=\"text-align: right;\">\n",
       "      <th></th>\n",
       "      <th>title</th>\n",
       "      <th>positive_ratio</th>\n",
       "      <th>rating</th>\n",
       "    </tr>\n",
       "  </thead>\n",
       "  <tbody>\n",
       "    <tr>\n",
       "      <th>7342</th>\n",
       "      <td>Terraria</td>\n",
       "      <td>97</td>\n",
       "      <td>Overwhelmingly Positive</td>\n",
       "    </tr>\n",
       "    <tr>\n",
       "      <th>2335</th>\n",
       "      <td>Garry's Mod</td>\n",
       "      <td>96</td>\n",
       "      <td>Overwhelmingly Positive</td>\n",
       "    </tr>\n",
       "    <tr>\n",
       "      <th>7155</th>\n",
       "      <td>The Witcher® 3: Wild Hunt</td>\n",
       "      <td>96</td>\n",
       "      <td>Overwhelmingly Positive</td>\n",
       "    </tr>\n",
       "    <tr>\n",
       "      <th>17337</th>\n",
       "      <td>Wallpaper Engine</td>\n",
       "      <td>98</td>\n",
       "      <td>Overwhelmingly Positive</td>\n",
       "    </tr>\n",
       "    <tr>\n",
       "      <th>18273</th>\n",
       "      <td>Left 4 Dead 2</td>\n",
       "      <td>97</td>\n",
       "      <td>Overwhelmingly Positive</td>\n",
       "    </tr>\n",
       "    <tr>\n",
       "      <th>9387</th>\n",
       "      <td>Stardew Valley</td>\n",
       "      <td>98</td>\n",
       "      <td>Overwhelmingly Positive</td>\n",
       "    </tr>\n",
       "    <tr>\n",
       "      <th>4512</th>\n",
       "      <td>Euro Truck Simulator 2</td>\n",
       "      <td>97</td>\n",
       "      <td>Overwhelmingly Positive</td>\n",
       "    </tr>\n",
       "    <tr>\n",
       "      <th>14859</th>\n",
       "      <td>Phasmophobia</td>\n",
       "      <td>97</td>\n",
       "      <td>Overwhelmingly Positive</td>\n",
       "    </tr>\n",
       "    <tr>\n",
       "      <th>13793</th>\n",
       "      <td>The Forest</td>\n",
       "      <td>95</td>\n",
       "      <td>Overwhelmingly Positive</td>\n",
       "    </tr>\n",
       "    <tr>\n",
       "      <th>16210</th>\n",
       "      <td>Valheim</td>\n",
       "      <td>95</td>\n",
       "      <td>Overwhelmingly Positive</td>\n",
       "    </tr>\n",
       "  </tbody>\n",
       "</table>\n",
       "</div>"
      ],
      "text/plain": [
       "                           title  positive_ratio                   rating\n",
       "7342                    Terraria              97  Overwhelmingly Positive\n",
       "2335                 Garry's Mod              96  Overwhelmingly Positive\n",
       "7155   The Witcher® 3: Wild Hunt              96  Overwhelmingly Positive\n",
       "17337           Wallpaper Engine              98  Overwhelmingly Positive\n",
       "18273              Left 4 Dead 2              97  Overwhelmingly Positive\n",
       "9387              Stardew Valley              98  Overwhelmingly Positive\n",
       "4512      Euro Truck Simulator 2              97  Overwhelmingly Positive\n",
       "14859               Phasmophobia              97  Overwhelmingly Positive\n",
       "13793                 The Forest              95  Overwhelmingly Positive\n",
       "16210                    Valheim              95  Overwhelmingly Positive"
      ]
     },
     "execution_count": 476,
     "metadata": {},
     "output_type": "execute_result"
    }
   ],
   "source": [
    "Q2=arty.loc[(arty['positive_ratio']>=95)].sort_values(['user_reviews','positive_ratio'],ascending=[False,False]).head(10)\n",
    "Q2[['title','positive_ratio', 'rating']]"
   ]
  },
  {
   "cell_type": "markdown",
   "id": "4afd87b6",
   "metadata": {},
   "source": [
    "Here im using the .loc() function to target the specific columns of my dataset and accessing the 'positive_ratio' to show the specific games which are asked in the question and sorting through the column 'user_reviews' and 'positive_ratio' displaying 10 games with columns 'title', 'positive_ratio', 'rating' "
   ]
  },
  {
   "cell_type": "markdown",
   "id": "5b0278dc",
   "metadata": {},
   "source": [
    "Q3. Which game is available on Mac, Windows and Linux."
   ]
  },
  {
   "cell_type": "code",
   "execution_count": 477,
   "id": "5a4a74c8",
   "metadata": {},
   "outputs": [
    {
     "data": {
      "text/html": [
       "<div>\n",
       "<style scoped>\n",
       "    .dataframe tbody tr th:only-of-type {\n",
       "        vertical-align: middle;\n",
       "    }\n",
       "\n",
       "    .dataframe tbody tr th {\n",
       "        vertical-align: top;\n",
       "    }\n",
       "\n",
       "    .dataframe thead th {\n",
       "        text-align: right;\n",
       "    }\n",
       "</style>\n",
       "<table border=\"1\" class=\"dataframe\">\n",
       "  <thead>\n",
       "    <tr style=\"text-align: right;\">\n",
       "      <th></th>\n",
       "      <th>title</th>\n",
       "      <th>mac</th>\n",
       "      <th>win</th>\n",
       "      <th>linux</th>\n",
       "    </tr>\n",
       "  </thead>\n",
       "  <tbody>\n",
       "    <tr>\n",
       "      <th>3</th>\n",
       "      <td>Monaco: What's Yours Is Mine</td>\n",
       "      <td>True</td>\n",
       "      <td>True</td>\n",
       "      <td>True</td>\n",
       "    </tr>\n",
       "    <tr>\n",
       "      <th>7</th>\n",
       "      <td>Enclave</td>\n",
       "      <td>True</td>\n",
       "      <td>True</td>\n",
       "      <td>True</td>\n",
       "    </tr>\n",
       "    <tr>\n",
       "      <th>15</th>\n",
       "      <td>Osmos</td>\n",
       "      <td>True</td>\n",
       "      <td>True</td>\n",
       "      <td>True</td>\n",
       "    </tr>\n",
       "    <tr>\n",
       "      <th>19</th>\n",
       "      <td>Borderlands 2: Headhunter 4: Wedding Day Massacre</td>\n",
       "      <td>True</td>\n",
       "      <td>True</td>\n",
       "      <td>True</td>\n",
       "    </tr>\n",
       "    <tr>\n",
       "      <th>20</th>\n",
       "      <td>Bridge Constructor</td>\n",
       "      <td>True</td>\n",
       "      <td>True</td>\n",
       "      <td>True</td>\n",
       "    </tr>\n",
       "    <tr>\n",
       "      <th>23</th>\n",
       "      <td>Chasm</td>\n",
       "      <td>True</td>\n",
       "      <td>True</td>\n",
       "      <td>True</td>\n",
       "    </tr>\n",
       "    <tr>\n",
       "      <th>25</th>\n",
       "      <td>Eradicator</td>\n",
       "      <td>True</td>\n",
       "      <td>True</td>\n",
       "      <td>True</td>\n",
       "    </tr>\n",
       "    <tr>\n",
       "      <th>28</th>\n",
       "      <td>Barony</td>\n",
       "      <td>True</td>\n",
       "      <td>True</td>\n",
       "      <td>True</td>\n",
       "    </tr>\n",
       "    <tr>\n",
       "      <th>29</th>\n",
       "      <td>Herald: An Interactive Period Drama - Book I &amp; II</td>\n",
       "      <td>True</td>\n",
       "      <td>True</td>\n",
       "      <td>True</td>\n",
       "    </tr>\n",
       "    <tr>\n",
       "      <th>38</th>\n",
       "      <td>Dreamfall Chapters</td>\n",
       "      <td>True</td>\n",
       "      <td>True</td>\n",
       "      <td>True</td>\n",
       "    </tr>\n",
       "  </tbody>\n",
       "</table>\n",
       "</div>"
      ],
      "text/plain": [
       "                                                title   mac   win  linux\n",
       "3                        Monaco: What's Yours Is Mine  True  True   True\n",
       "7                                             Enclave  True  True   True\n",
       "15                                              Osmos  True  True   True\n",
       "19  Borderlands 2: Headhunter 4: Wedding Day Massacre  True  True   True\n",
       "20                                 Bridge Constructor  True  True   True\n",
       "23                                              Chasm  True  True   True\n",
       "25                                         Eradicator  True  True   True\n",
       "28                                             Barony  True  True   True\n",
       "29  Herald: An Interactive Period Drama - Book I & II  True  True   True\n",
       "38                                 Dreamfall Chapters  True  True   True"
      ]
     },
     "execution_count": 477,
     "metadata": {},
     "output_type": "execute_result"
    }
   ],
   "source": [
    "Q3=arty.loc[(arty['mac'] >= True) & (arty['win'] >= True) & (arty['linux'] >= True)].sort_values(['mac','win', 'linux'],ascending=[False,False,False]).head(10)\n",
    "Q3[['title','mac', 'win', 'linux']]"
   ]
  },
  {
   "cell_type": "markdown",
   "id": "e320e236",
   "metadata": {},
   "source": [
    "Here im using the .loc() function to target the specific columns of my dataset and accessing the 'mac' , 'win' and 'linux' to show the specific games which are asked in the question and sorting through the columns 'mac', 'win', 'linux' and displaying 10 games with columns 'title', 'mac', 'win', 'linux'"
   ]
  },
  {
   "cell_type": "markdown",
   "id": "08b2ca8a",
   "metadata": {},
   "source": [
    "Q4. Display 10 games which were popular on linux in 2010"
   ]
  },
  {
   "cell_type": "code",
   "execution_count": 478,
   "id": "088bde72",
   "metadata": {},
   "outputs": [
    {
     "data": {
      "text/html": [
       "<div>\n",
       "<style scoped>\n",
       "    .dataframe tbody tr th:only-of-type {\n",
       "        vertical-align: middle;\n",
       "    }\n",
       "\n",
       "    .dataframe tbody tr th {\n",
       "        vertical-align: top;\n",
       "    }\n",
       "\n",
       "    .dataframe thead th {\n",
       "        text-align: right;\n",
       "    }\n",
       "</style>\n",
       "<table border=\"1\" class=\"dataframe\">\n",
       "  <thead>\n",
       "    <tr style=\"text-align: right;\">\n",
       "      <th></th>\n",
       "      <th>title</th>\n",
       "      <th>user_reviews</th>\n",
       "      <th>positive_ratio</th>\n",
       "      <th>linux</th>\n",
       "    </tr>\n",
       "  </thead>\n",
       "  <tbody>\n",
       "    <tr>\n",
       "      <th>18056</th>\n",
       "      <td>Mount &amp; Blade: Warband</td>\n",
       "      <td>116850</td>\n",
       "      <td>97</td>\n",
       "      <td>True</td>\n",
       "    </tr>\n",
       "    <tr>\n",
       "      <th>9694</th>\n",
       "      <td>Sid Meier's Civilization® V</td>\n",
       "      <td>115749</td>\n",
       "      <td>96</td>\n",
       "      <td>True</td>\n",
       "    </tr>\n",
       "    <tr>\n",
       "      <th>1381</th>\n",
       "      <td>Super Meat Boy</td>\n",
       "      <td>22634</td>\n",
       "      <td>94</td>\n",
       "      <td>True</td>\n",
       "    </tr>\n",
       "    <tr>\n",
       "      <th>9909</th>\n",
       "      <td>Amnesia: The Dark Descent</td>\n",
       "      <td>16456</td>\n",
       "      <td>95</td>\n",
       "      <td>True</td>\n",
       "    </tr>\n",
       "    <tr>\n",
       "      <th>3098</th>\n",
       "      <td>Day of Defeat: Source</td>\n",
       "      <td>12481</td>\n",
       "      <td>90</td>\n",
       "      <td>True</td>\n",
       "    </tr>\n",
       "    <tr>\n",
       "      <th>16569</th>\n",
       "      <td>VVVVVV</td>\n",
       "      <td>5520</td>\n",
       "      <td>96</td>\n",
       "      <td>True</td>\n",
       "    </tr>\n",
       "    <tr>\n",
       "      <th>3955</th>\n",
       "      <td>Beat Hazard</td>\n",
       "      <td>4887</td>\n",
       "      <td>95</td>\n",
       "      <td>True</td>\n",
       "    </tr>\n",
       "    <tr>\n",
       "      <th>11442</th>\n",
       "      <td>Shank</td>\n",
       "      <td>2147</td>\n",
       "      <td>90</td>\n",
       "      <td>True</td>\n",
       "    </tr>\n",
       "    <tr>\n",
       "      <th>7465</th>\n",
       "      <td>Broken Sword: Director's Cut</td>\n",
       "      <td>1801</td>\n",
       "      <td>93</td>\n",
       "      <td>True</td>\n",
       "    </tr>\n",
       "    <tr>\n",
       "      <th>16038</th>\n",
       "      <td>eversion</td>\n",
       "      <td>1001</td>\n",
       "      <td>91</td>\n",
       "      <td>True</td>\n",
       "    </tr>\n",
       "  </tbody>\n",
       "</table>\n",
       "</div>"
      ],
      "text/plain": [
       "                              title  user_reviews  positive_ratio  linux\n",
       "18056        Mount & Blade: Warband        116850              97   True\n",
       "9694    Sid Meier's Civilization® V        115749              96   True\n",
       "1381                 Super Meat Boy         22634              94   True\n",
       "9909      Amnesia: The Dark Descent         16456              95   True\n",
       "3098          Day of Defeat: Source         12481              90   True\n",
       "16569                        VVVVVV          5520              96   True\n",
       "3955                    Beat Hazard          4887              95   True\n",
       "11442                         Shank          2147              90   True\n",
       "7465   Broken Sword: Director's Cut          1801              93   True\n",
       "16038                      eversion          1001              91   True"
      ]
     },
     "execution_count": 478,
     "metadata": {},
     "output_type": "execute_result"
    }
   ],
   "source": [
    "Q4=arty.loc[(arty['date_release'].dt.year==2010) & (arty['positive_ratio']>=90) & (arty['linux']==True)].sort_values(['user_reviews','positive_ratio'],ascending=[False,False]).head(10)\n",
    "Q4[['title','user_reviews','positive_ratio', 'linux']]"
   ]
  },
  {
   "cell_type": "markdown",
   "id": "d3ff3702",
   "metadata": {},
   "source": [
    "Here im using the .loc() function to target the specific columns of my dataset and accessing the 'date_release' , 'positive_ratio'and 'linux' to show the specific games which are asked in the question and sorting through the column 'user_reviews' and displaying 10 games with columns 'title', 'user_reviews', 'positive_ratio', 'linux'"
   ]
  },
  {
   "cell_type": "markdown",
   "id": "473d3846",
   "metadata": {},
   "source": [
    "Q5. Display 20 games which were available on mac and windows but not on linux\n",
    "in the year 2009."
   ]
  },
  {
   "cell_type": "code",
   "execution_count": 479,
   "id": "45d756c5",
   "metadata": {
    "scrolled": true
   },
   "outputs": [
    {
     "data": {
      "text/html": [
       "<div>\n",
       "<style scoped>\n",
       "    .dataframe tbody tr th:only-of-type {\n",
       "        vertical-align: middle;\n",
       "    }\n",
       "\n",
       "    .dataframe tbody tr th {\n",
       "        vertical-align: top;\n",
       "    }\n",
       "\n",
       "    .dataframe thead th {\n",
       "        text-align: right;\n",
       "    }\n",
       "</style>\n",
       "<table border=\"1\" class=\"dataframe\">\n",
       "  <thead>\n",
       "    <tr style=\"text-align: right;\">\n",
       "      <th></th>\n",
       "      <th>title</th>\n",
       "      <th>date_release</th>\n",
       "      <th>mac</th>\n",
       "      <th>win</th>\n",
       "      <th>linux</th>\n",
       "    </tr>\n",
       "  </thead>\n",
       "  <tbody>\n",
       "    <tr>\n",
       "      <th>260</th>\n",
       "      <td>The Dig®</td>\n",
       "      <td>2009-07-08</td>\n",
       "      <td>True</td>\n",
       "      <td>True</td>\n",
       "      <td>False</td>\n",
       "    </tr>\n",
       "    <tr>\n",
       "      <th>1182</th>\n",
       "      <td>Call of Duty®: Modern Warfare® 2 (2009)</td>\n",
       "      <td>2009-11-11</td>\n",
       "      <td>True</td>\n",
       "      <td>True</td>\n",
       "      <td>False</td>\n",
       "    </tr>\n",
       "    <tr>\n",
       "      <th>1489</th>\n",
       "      <td>The Path</td>\n",
       "      <td>2009-03-18</td>\n",
       "      <td>True</td>\n",
       "      <td>True</td>\n",
       "      <td>False</td>\n",
       "    </tr>\n",
       "    <tr>\n",
       "      <th>1926</th>\n",
       "      <td>Chocolatier®: Decadence by Design™</td>\n",
       "      <td>2009-08-12</td>\n",
       "      <td>True</td>\n",
       "      <td>True</td>\n",
       "      <td>False</td>\n",
       "    </tr>\n",
       "    <tr>\n",
       "      <th>2228</th>\n",
       "      <td>Indiana Jones® and the Fate of Atlantis™</td>\n",
       "      <td>2009-07-08</td>\n",
       "      <td>True</td>\n",
       "      <td>True</td>\n",
       "      <td>False</td>\n",
       "    </tr>\n",
       "    <tr>\n",
       "      <th>2994</th>\n",
       "      <td>STAR WARS™ Jedi Knight II - Jedi Outcast™</td>\n",
       "      <td>2009-09-16</td>\n",
       "      <td>True</td>\n",
       "      <td>True</td>\n",
       "      <td>False</td>\n",
       "    </tr>\n",
       "    <tr>\n",
       "      <th>5335</th>\n",
       "      <td>Indiana Jones® and the Last Crusade™</td>\n",
       "      <td>2009-07-08</td>\n",
       "      <td>True</td>\n",
       "      <td>True</td>\n",
       "      <td>False</td>\n",
       "    </tr>\n",
       "    <tr>\n",
       "      <th>5561</th>\n",
       "      <td>Hearts of Iron III</td>\n",
       "      <td>2009-08-07</td>\n",
       "      <td>True</td>\n",
       "      <td>True</td>\n",
       "      <td>False</td>\n",
       "    </tr>\n",
       "    <tr>\n",
       "      <th>5988</th>\n",
       "      <td>Machinarium</td>\n",
       "      <td>2009-10-16</td>\n",
       "      <td>True</td>\n",
       "      <td>True</td>\n",
       "      <td>False</td>\n",
       "    </tr>\n",
       "    <tr>\n",
       "      <th>6214</th>\n",
       "      <td>LUXOR: Mah Jong</td>\n",
       "      <td>2009-07-13</td>\n",
       "      <td>True</td>\n",
       "      <td>True</td>\n",
       "      <td>False</td>\n",
       "    </tr>\n",
       "  </tbody>\n",
       "</table>\n",
       "</div>"
      ],
      "text/plain": [
       "                                          title date_release   mac   win  \\\n",
       "260                                    The Dig®   2009-07-08  True  True   \n",
       "1182    Call of Duty®: Modern Warfare® 2 (2009)   2009-11-11  True  True   \n",
       "1489                                   The Path   2009-03-18  True  True   \n",
       "1926         Chocolatier®: Decadence by Design™   2009-08-12  True  True   \n",
       "2228   Indiana Jones® and the Fate of Atlantis™   2009-07-08  True  True   \n",
       "2994  STAR WARS™ Jedi Knight II - Jedi Outcast™   2009-09-16  True  True   \n",
       "5335       Indiana Jones® and the Last Crusade™   2009-07-08  True  True   \n",
       "5561                         Hearts of Iron III   2009-08-07  True  True   \n",
       "5988                                Machinarium   2009-10-16  True  True   \n",
       "6214                            LUXOR: Mah Jong   2009-07-13  True  True   \n",
       "\n",
       "      linux  \n",
       "260   False  \n",
       "1182  False  \n",
       "1489  False  \n",
       "1926  False  \n",
       "2228  False  \n",
       "2994  False  \n",
       "5335  False  \n",
       "5561  False  \n",
       "5988  False  \n",
       "6214  False  "
      ]
     },
     "execution_count": 479,
     "metadata": {},
     "output_type": "execute_result"
    }
   ],
   "source": [
    "Q5=arty.loc[(arty['date_release'].dt.year==2009) & (arty['win'] == True) & (arty['mac']==True) & (arty['linux'] == False)].sort_values(['mac','linux'],ascending=[False,False]).head(10)\n",
    "Q5[['title', 'date_release', 'mac', 'win', 'linux']]"
   ]
  },
  {
   "cell_type": "markdown",
   "id": "8cbedb58",
   "metadata": {},
   "source": [
    "Here im using the .loc() function to target the specific columns of my dataset and accessing the 'date_release' , 'win', 'mac' and 'linux' to show the specific games which are asked in the question and sorting through the columns 'mac' and 'linux' and displaying 10 values with columns 'title', 'date_release', 'mac', 'win', 'linux'"
   ]
  },
  {
   "cell_type": "markdown",
   "id": "045181c1",
   "metadata": {},
   "source": [
    "# Conslusion"
   ]
  },
  {
   "cell_type": "markdown",
   "id": "863c0fa9",
   "metadata": {},
   "source": [
    "Strengths:\n",
    "    The dataset is very vast and has alot of information about the games accordin\n",
    "    to the year, plateform, reviews and prices and with the help of this we can build\n",
    "    a game recommendation system.\n",
    "    \n",
    "Limitations:\n",
    "    It is very difficult to understand this large amount of data as well as handle \n",
    "    because if i tried to make some other plotting graphs it would take an hour or so \n",
    "    to show me the output and if i were to make changes to the same query i would\n",
    "    again have to wait an hour.\n",
    "\n",
    "The company can use this to understand all about certain games and when they were\n",
    "popular and on which plateform they can be played and what is and what was its price \n",
    "during a certain time of the year."
   ]
  }
 ],
 "metadata": {
  "kernelspec": {
   "display_name": "Python 3",
   "language": "python",
   "name": "python3"
  },
  "language_info": {
   "codemirror_mode": {
    "name": "ipython",
    "version": 3
   },
   "file_extension": ".py",
   "mimetype": "text/x-python",
   "name": "python",
   "nbconvert_exporter": "python",
   "pygments_lexer": "ipython3",
   "version": "3.8.8"
  }
 },
 "nbformat": 4,
 "nbformat_minor": 5
}
